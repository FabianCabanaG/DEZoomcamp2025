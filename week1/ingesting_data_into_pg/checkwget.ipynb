{
 "cells": [
  {
   "cell_type": "code",
   "execution_count": 1,
   "id": "163c2d90-e22a-4423-8c91-19ae1a8a715c",
   "metadata": {},
   "outputs": [],
   "source": [
    "import os"
   ]
  },
  {
   "cell_type": "code",
   "execution_count": 3,
   "id": "e9ed7c36-5474-4662-87be-af243f317719",
   "metadata": {},
   "outputs": [],
   "source": [
    "url=\"https://github.com/DataTalksClub/nyc-tlc-data/releases/download/yellow/yellow_tripdata_2021-01.csv.gz\""
   ]
  },
  {
   "cell_type": "code",
   "execution_count": 8,
   "id": "59e0898f-9aef-482d-9785-4d5c006be6a1",
   "metadata": {},
   "outputs": [],
   "source": [
    "if url.endswith('.csv.gz'):\n",
    "    csv_name = 'output.csv.gz'\n",
    "else:\n",
    "    csv_name = 'output.csv'"
   ]
  },
  {
   "cell_type": "code",
   "execution_count": 11,
   "id": "66ba661b-eee9-4173-90ea-23b4224de033",
   "metadata": {},
   "outputs": [
    {
     "data": {
      "text/plain": [
       "('output.csv.gz', <http.client.HTTPMessage at 0x1beb4c4fce0>)"
      ]
     },
     "execution_count": 11,
     "metadata": {},
     "output_type": "execute_result"
    }
   ],
   "source": []
  },
  {
   "cell_type": "code",
   "execution_count": null,
   "id": "527970f0-15b7-4332-bd4a-3188c4b03b78",
   "metadata": {},
   "outputs": [],
   "source": []
  }
 ],
 "metadata": {
  "kernelspec": {
   "display_name": "Python 3 (ipykernel)",
   "language": "python",
   "name": "python3"
  },
  "language_info": {
   "codemirror_mode": {
    "name": "ipython",
    "version": 3
   },
   "file_extension": ".py",
   "mimetype": "text/x-python",
   "name": "python",
   "nbconvert_exporter": "python",
   "pygments_lexer": "ipython3",
   "version": "3.13.1"
  }
 },
 "nbformat": 4,
 "nbformat_minor": 5
}
